{
 "cells": [
  {
   "cell_type": "code",
   "execution_count": 1,
   "metadata": {},
   "outputs": [],
   "source": [
    "import sys\n",
    "import json\n",
    "import csv\n",
    "import yaml\n",
    "\n",
    "import importlib\n",
    "\n",
    "import pandas as pd\n",
    "import numpy as np\n",
    "import math\n",
    "\n",
    "import matplotlib as mpl\n",
    "import matplotlib.pyplot as plt\n",
    "import os\n",
    "from dotenv import load_dotenv\n",
    "\n",
    "from datetime import time\n",
    "from datetime import date\n",
    "from datetime import datetime\n",
    "# with the above choices, the imported datetime.time(2023,07,01) is recognized\n",
    "# from datetime import date\n",
    "# from datetime import datetime\n",
    "\n",
    "import pprint\n",
    "\n",
    "import psycopg2\n",
    "from sqlalchemy import create_engine, text as sql_text\n",
    "\n",
    "# Create an utilities file util.py in a folder benchmarking and import it\n",
    "sys.path.append('helper_functions/')\n",
    "# import util as util\n",
    "import util"
   ]
  },
  {
   "cell_type": "code",
   "execution_count": 37,
   "metadata": {},
   "outputs": [
    {
     "name": "stdout",
     "output_type": "stream",
     "text": [
      "Successfully created db engine.\n"
     ]
    }
   ],
   "source": [
    "# Load the env file \n",
    "dotenv_path = './variables.env'\n",
    "\n",
    "# Import the env variables\n",
    "load_dotenv(dotenv_path, override=True)\n",
    "\n",
    "schema = os.getenv(\"SCHEMA\")\n",
    "port = os.getenv(\"PORT\")\n",
    "host = os.getenv(\"HOST\")\n",
    "database = os.getenv(\"DATABASE\")\n",
    "username = os.getenv(\"USERNAME\")\n",
    "password = os.getenv(\"PASSWORD\")\n",
    "\n",
    "# Create a connection to the database\n",
    "db_eng = create_engine(f'postgresql+psycopg2://{username}:{password}@{host}:{port}/{database}',\n",
    "                       connect_args={'options': f'-csearch_path={schema}'},\n",
    "                       isolation_level = 'SERIALIZABLE')\n",
    "\n",
    "\n",
    "print(\"Successfully created db engine.\")\n"
   ]
  },
  {
   "cell_type": "code",
   "execution_count": 2,
   "metadata": {},
   "outputs": [],
   "source": [
    "from pymongo import MongoClient\n",
    "\n",
    "client = MongoClient()"
   ]
  },
  {
   "cell_type": "code",
   "execution_count": 6,
   "metadata": {},
   "outputs": [
    {
     "name": "stdout",
     "output_type": "stream",
     "text": [
      "The list of all databases currently in the MongoDB client is:\n",
      "['admin', 'airbnb', 'config', 'local', 'test']\n",
      "\n",
      "The list of all collections in the airbnb database is:\n",
      "['listings_with_reviews_and_cal', 'listings_with_calendar', 'listings', 'reviews', 'listings_with_reviews_m', 'calendar', 'listings_test']\n"
     ]
    }
   ],
   "source": [
    "# I have (or will have) a database \"airbnb\"\n",
    "db = client.airbnb\n",
    "\n",
    "\n",
    "print('The list of all databases currently in the MongoDB client is:')\n",
    "print(client.list_database_names())\n",
    "\n",
    "print('\\nThe list of all collections in the airbnb database is:')\n",
    "print(db.list_collection_names())\n",
    "# Note: calendar may not show up yet; it is created only when a first document is inserted into it"
   ]
  },
  {
   "cell_type": "code",
   "execution_count": 3,
   "metadata": {},
   "outputs": [],
   "source": [
    "def listing_convert_date_str_to_datetime(dt):\n",
    "    if dt is None:\n",
    "        return None\n",
    "    elif pd.isnull(dt):  # tests whether dt is the pandas value NaT (\"not a time\")\n",
    "        #print('\\nEntered the NaT case\\n')\n",
    "        return None\n",
    "    elif dt != dt:\n",
    "        return None        # could also use math.nan, I think\n",
    "    elif dt == '':\n",
    "        return None\n",
    "    else:\n",
    "        month, day, year = dt.split('/')\n",
    "        year = int(f'20{year}')\n",
    "        day = int(day)\n",
    "        month = int(month)\n",
    "        temp = datetime(year, month, day)\n",
    "        ts = temp.timestamp()\n",
    "        new_dt = datetime.fromtimestamp(ts)\n",
    "        return new_dt"
   ]
  },
  {
   "cell_type": "code",
   "execution_count": 4,
   "metadata": {},
   "outputs": [],
   "source": [
    "# also converts NaT to None, because MongoDB does not recognize NaT\n",
    "def convert_date_str_to_datetime(dt):\n",
    "    if dt is None:\n",
    "        return None\n",
    "    elif pd.isnull(dt):  # tests whether dt is the pandas value NaT (\"not a time\")\n",
    "        # print('\\nEntered the NaT case\\n')\n",
    "        return None\n",
    "    elif dt != dt:\n",
    "        return None        # could also use math.nan, I think\n",
    "    elif dt == '':\n",
    "        return None\n",
    "    else:\n",
    "        year = int(dt[0:4])\n",
    "        month = int(dt[5:7])\n",
    "        day = int(dt[8:10])\n",
    "        # print(year, month, day)\n",
    "        temp = datetime(year, month, day)\n",
    "        ts = temp.timestamp()\n",
    "        new_dt = datetime.fromtimestamp(ts)\n",
    "        return new_dt\n"
   ]
  },
  {
   "cell_type": "markdown",
   "metadata": {},
   "source": [
    "### Loading listings.csv"
   ]
  },
  {
   "cell_type": "code",
   "execution_count": 42,
   "metadata": {},
   "outputs": [],
   "source": [
    "listings_dtypes = {\n",
    "    'id': str,\n",
    "    'name': str,\n",
    "    'host_id': str,\n",
    "    'host_name': str,\n",
    "    'neighbourhood_group': str,\n",
    "    'neighbourhood': str,\n",
    "    'room_type': str,\n",
    "    'last_review': str,\n",
    "    'license': str\n",
    "}\n",
    "\n",
    "listings_df = pd.read_csv('./listings.csv', dtype=listings_dtypes)"
   ]
  },
  {
   "cell_type": "code",
   "execution_count": 43,
   "metadata": {},
   "outputs": [],
   "source": [
    "listings_df['last_review'] = listings_df['last_review'].apply(listing_convert_date_str_to_datetime)"
   ]
  },
  {
   "cell_type": "code",
   "execution_count": 44,
   "metadata": {},
   "outputs": [],
   "source": [
    "listings_df['last_review'] = listings_df['last_review'].astype('object').where(listings_df['last_review'].notnull(), None)"
   ]
  },
  {
   "cell_type": "markdown",
   "metadata": {},
   "source": [
    "### Loading reviews.csv"
   ]
  },
  {
   "cell_type": "code",
   "execution_count": 45,
   "metadata": {},
   "outputs": [],
   "source": [
    "reviews_dtypes = {\n",
    "    'listing_id': str,\n",
    "    'id': str,\n",
    "    'date': str,\n",
    "    'reviewer_id': str,\n",
    "    'reviewer_name': str,\n",
    "    'comments': str\n",
    "}\n",
    "\n",
    "reviews_df = pd.read_csv('./reviews.csv', dtype=reviews_dtypes)"
   ]
  },
  {
   "cell_type": "code",
   "execution_count": 46,
   "metadata": {},
   "outputs": [],
   "source": [
    "reviews_df['date'] = reviews_df['date'].apply(convert_date_str_to_datetime)"
   ]
  },
  {
   "cell_type": "code",
   "execution_count": 47,
   "metadata": {},
   "outputs": [],
   "source": [
    "reviews_df['date'] = reviews_df['date'].astype('object').where(reviews_df['date'].notnull(), None)"
   ]
  },
  {
   "cell_type": "markdown",
   "metadata": {},
   "source": [
    "### Put listings into MongoDB"
   ]
  },
  {
   "cell_type": "code",
   "execution_count": 48,
   "metadata": {},
   "outputs": [
    {
     "name": "stdout",
     "output_type": "stream",
     "text": [
      "Time to perform this operation was 0.242995 seconds.\n"
     ]
    }
   ],
   "source": [
    "time1 = datetime.now()\n",
    "dict_listings = listings_df.to_dict('records')\n",
    "time2 = datetime.now()\n",
    "print(f'Time to perform this operation was {util.time_diff(time1,time2)} seconds.')"
   ]
  },
  {
   "cell_type": "code",
   "execution_count": 49,
   "metadata": {},
   "outputs": [
    {
     "name": "stdout",
     "output_type": "stream",
     "text": [
      "39202\n",
      "\n",
      "Time to perform this operation was 0.448996 seconds.\n",
      "\n",
      "Number of docs in db.listings is 39202\n",
      "\n",
      "[{'_id': ObjectId('665ea170e9a75767d052e090'),\n",
      "  'id': '795691344180160853',\n",
      "  'name': 'Hotel in New York · ★4.33 · 1 bedroom · 1 bed · 1 private bath',\n",
      "  'host_id': '484277630',\n",
      "  'host_name': 'Bugra Han',\n",
      "  'neighbourhood_group': 'Manhattan',\n",
      "  'neighbourhood': 'Midtown',\n",
      "  'latitude': 40.7550775,\n",
      "  'longitude': -73.9810571,\n",
      "  'room_type': 'Private room',\n",
      "  'price': nan,\n",
      "  'minimum_nights': 4,\n",
      "  'number_of_reviews': 5,\n",
      "  'last_review': datetime.datetime(2023, 12, 18, 0, 0),\n",
      "  'reviews_per_month': 1.2,\n",
      "  'calculated_host_listings_count': 33,\n",
      "  'availability_365': 0,\n",
      "  'number_of_reviews_ltm': 5,\n",
      "  'license': 'Exempt'},\n",
      " {'_id': ObjectId('665ea170e9a75767d052e091'),\n",
      "  'id': '942191196511011206',\n",
      "  'name': 'Home in Brooklyn · 5 bedrooms · 5 beds · 2 baths',\n",
      "  'host_id': '517145594',\n",
      "  'host_name': 'Ben',\n",
      "  'neighbourhood_group': 'Brooklyn',\n",
      "  'neighbourhood': 'East Flatbush',\n",
      "  'latitude': 40.65951,\n",
      "  'longitude': -73.93827,\n",
      "  'room_type': 'Entire home/apt',\n",
      "  'price': 200.0,\n",
      "  'minimum_nights': 30,\n",
      "  'number_of_reviews': 2,\n",
      "  'last_review': datetime.datetime(2023, 11, 18, 0, 0),\n",
      "  'reviews_per_month': 0.32,\n",
      "  'calculated_host_listings_count': 5,\n",
      "  'availability_365': 270,\n",
      "  'number_of_reviews_ltm': 2,\n",
      "  'license': nan},\n",
      " {'_id': ObjectId('665ea170e9a75767d052e092'),\n",
      "  'id': '563728723224510265',\n",
      "  'name': 'Rental unit in Queens · ★4.76 · Studio · 1 bed · 1 bath',\n",
      "  'host_id': '219517861',\n",
      "  'host_name': 'Sonder (NYC)',\n",
      "  'neighbourhood_group': 'Queens',\n",
      "  'neighbourhood': 'Long Island City',\n",
      "  'latitude': 40.74482,\n",
      "  'longitude': -73.94326,\n",
      "  'room_type': 'Entire home/apt',\n",
      "  'price': 218.0,\n",
      "  'minimum_nights': 2,\n",
      "  'number_of_reviews': 214,\n",
      "  'last_review': datetime.datetime(2024, 1, 7, 0, 0),\n",
      "  'reviews_per_month': 8.99,\n",
      "  'calculated_host_listings_count': 84,\n",
      "  'availability_365': 0,\n",
      "  'number_of_reviews_ltm': 102,\n",
      "  'license': 'Exempt'},\n",
      " {'_id': ObjectId('665ea170e9a75767d052e093'),\n",
      "  'id': '19602390',\n",
      "  'name': 'Rental unit in Brooklyn · ★4.78 · 1 bedroom · 1 bed · 1 bath',\n",
      "  'host_id': '137817563',\n",
      "  'host_name': 'Amarelle',\n",
      "  'neighbourhood_group': 'Brooklyn',\n",
      "  'neighbourhood': 'Bedford-Stuyvesant',\n",
      "  'latitude': 40.68232,\n",
      "  'longitude': -73.93023,\n",
      "  'room_type': 'Entire home/apt',\n",
      "  'price': 106.0,\n",
      "  'minimum_nights': 30,\n",
      "  'number_of_reviews': 140,\n",
      "  'last_review': datetime.datetime(2023, 11, 7, 0, 0),\n",
      "  'reviews_per_month': 1.75,\n",
      "  'calculated_host_listings_count': 1,\n",
      "  'availability_365': 249,\n",
      "  'number_of_reviews_ltm': 15,\n",
      "  'license': nan},\n",
      " {'_id': ObjectId('665ea170e9a75767d052e094'),\n",
      "  'id': '756650222823891886',\n",
      "  'name': 'Rental unit in Staten Island · ★4.89 · 3 bedrooms · 4 beds · 2 '\n",
      "          'baths',\n",
      "  'host_id': '121399223',\n",
      "  'host_name': 'Weifeng',\n",
      "  'neighbourhood_group': 'Staten Island',\n",
      "  'neighbourhood': 'St. George',\n",
      "  'latitude': 40.64367,\n",
      "  'longitude': -74.08182,\n",
      "  'room_type': 'Entire home/apt',\n",
      "  'price': 189.0,\n",
      "  'minimum_nights': 30,\n",
      "  'number_of_reviews': 44,\n",
      "  'last_review': datetime.datetime(2024, 1, 12, 0, 0),\n",
      "  'reviews_per_month': 2.95,\n",
      "  'calculated_host_listings_count': 6,\n",
      "  'availability_365': 0,\n",
      "  'number_of_reviews_ltm': 38,\n",
      "  'license': nan}]\n"
     ]
    }
   ],
   "source": [
    "# The following empties out listings_with_cal; useful if making a fresh start\n",
    "db.listings.drop()\n",
    "\n",
    "print(len(dict_listings))\n",
    "\n",
    "time1 = datetime.now()\n",
    "result = db.listings.insert_many(dict_listings)\n",
    "time2 = datetime.now()\n",
    "print(f'\\nTime to perform this operation was {util.time_diff(time1,time2)} seconds.')\n",
    "# between about 2 and 4 minutes\n",
    "\n",
    "print(f'\\nNumber of docs in db.listings is {db.listings.count_documents({})}')\n",
    "\n",
    "print()\n",
    "outdocs = []\n",
    "for o in result.inserted_ids[-5:]:\n",
    "    outdocs.append(db.listings.find_one({ '_id': o}))\n",
    "pprint.pp(outdocs)"
   ]
  },
  {
   "cell_type": "code",
   "execution_count": 50,
   "metadata": {},
   "outputs": [
    {
     "data": {
      "text/plain": [
       "'id_1'"
      ]
     },
     "execution_count": 50,
     "metadata": {},
     "output_type": "execute_result"
    }
   ],
   "source": [
    "db.listings.create_index('id')"
   ]
  },
  {
   "cell_type": "markdown",
   "metadata": {},
   "source": [
    "### Put reviews into MongoDB"
   ]
  },
  {
   "cell_type": "code",
   "execution_count": 51,
   "metadata": {},
   "outputs": [
    {
     "name": "stdout",
     "output_type": "stream",
     "text": [
      "Time to perform this operation was 4.842547 seconds.\n"
     ]
    }
   ],
   "source": [
    "time1 = datetime.now()\n",
    "dict_reviews = reviews_df.to_dict('records')\n",
    "time2 = datetime.now()\n",
    "print(f'Time to perform this operation was {util.time_diff(time1,time2)} seconds.')"
   ]
  },
  {
   "cell_type": "code",
   "execution_count": 52,
   "metadata": {},
   "outputs": [
    {
     "name": "stdout",
     "output_type": "stream",
     "text": [
      "986810\n",
      "\n",
      "Time to perform this operation was 10.95913 seconds.\n",
      "\n",
      "Number of docs in db.reviews is 986810\n",
      "\n",
      "[{'_id': ObjectId('665ea178e9a75767d061ef4a'),\n",
      "  'listing_id': '1066905373347759013',\n",
      "  'id': '1076164094756359504',\n",
      "  'date': datetime.datetime(2024, 1, 24, 0, 0),\n",
      "  'reviewer_id': '84336263',\n",
      "  'reviewer_name': 'T',\n",
      "  'comments': 'We had a good stay. Place was clean and in a good, central '\n",
      "              'location. It was a good value for the price and worked well for '\n",
      "              'our group of 4 adults.'},\n",
      " {'_id': ObjectId('665ea178e9a75767d061ef4b'),\n",
      "  'listing_id': '1066905373347759013',\n",
      "  'id': '1079811744368032164',\n",
      "  'date': datetime.datetime(2024, 1, 29, 0, 0),\n",
      "  'reviewer_id': '280434951',\n",
      "  'reviewer_name': 'Saufia',\n",
      "  'comments': 'I recently had the pleasure of staying at this property and we '\n",
      "              'had an amazing experience. The property has been recently '\n",
      "              \"refurbished and cleanliness was remarkable. It's perfect for a \"\n",
      "              \"big group or family, as there's ample space for everyone to \"\n",
      "              'enjoy their stay comfortably. <br/>It has all the essential '\n",
      "              'items you could possibly need, making it feel like a home away '\n",
      "              'from home. The location is ideal, being close to the metro '\n",
      "              'which made it incredibly convenient for us to explore the city. '\n",
      "              'We also enjoyed the easy access to local sightseeing spots and '\n",
      "              'shopping areas.<br/>A special mention to the property manager, '\n",
      "              'who was exceptionally responsive. Any queries were answered '\n",
      "              'swiftly, and they were always happy to help, adding an extra '\n",
      "              'layer of comfort to our stay. <br/>Overall, I highly recommend '\n",
      "              'this property for anyone looking for a hassle-free, '\n",
      "              'comfortable, and enjoyable stay in a great location.'},\n",
      " {'_id': ObjectId('665ea178e9a75767d061ef4c'),\n",
      "  'listing_id': '1070657277463593193',\n",
      "  'id': '1084815512594078305',\n",
      "  'date': datetime.datetime(2024, 2, 5, 0, 0),\n",
      "  'reviewer_id': '340888377',\n",
      "  'reviewer_name': 'Argelis',\n",
      "  'comments': 'Good Communication and attention... Thanks so Much!'},\n",
      " {'_id': ObjectId('665ea178e9a75767d061ef4d'),\n",
      "  'listing_id': '1070928457910719744',\n",
      "  'id': '1076904485515107241',\n",
      "  'date': datetime.datetime(2024, 1, 25, 0, 0),\n",
      "  'reviewer_id': '9511025',\n",
      "  'reviewer_name': 'Steven',\n",
      "  'comments': 'This guesthouse is absolutely adorable! It’s located on '\n",
      "              'quintessential Harlem Street. The walk to the train is less '\n",
      "              'than than 10 minutes.  Central Park is about a 15 minute walk.  '\n",
      "              'My host was welcoming and helpful but not intrusive at all.  '\n",
      "              'The guest house has beautiful artwork. The picture definitely '\n",
      "              'don’t do it justice. I feel like I lived a New York dream '\n",
      "              'during my time there! I will definitely be back'},\n",
      " {'_id': ObjectId('665ea178e9a75767d061ef4e'),\n",
      "  'listing_id': '1070928457910719744',\n",
      "  'id': '1079039094814815797',\n",
      "  'date': datetime.datetime(2024, 1, 28, 0, 0),\n",
      "  'reviewer_id': '557959854',\n",
      "  'reviewer_name': 'Ajuong',\n",
      "  'comments': 'I really had a pleasant stay! The place is clean and quiet. The '\n",
      "              'host is polite and responsive. It is a great place.'}]\n"
     ]
    }
   ],
   "source": [
    "# The following empties out reviews; useful if making a fresh start\n",
    "db.reviews.drop()\n",
    "\n",
    "print(len(dict_reviews))\n",
    "\n",
    "time1 = datetime.now()\n",
    "result = db.reviews.insert_many(dict_reviews)\n",
    "time2 = datetime.now()\n",
    "print(f'\\nTime to perform this operation was {util.time_diff(time1,time2)} seconds.')\n",
    "# between about 2 and 4 minutes\n",
    "\n",
    "print(f'\\nNumber of docs in db.reviews is {db.reviews.count_documents({})}')\n",
    "\n",
    "print()\n",
    "outdocs = []\n",
    "for o in result.inserted_ids[-5:]:\n",
    "    outdocs.append(db.reviews.find_one({ '_id': o}))\n",
    "pprint.pp(outdocs)"
   ]
  },
  {
   "cell_type": "code",
   "execution_count": 53,
   "metadata": {},
   "outputs": [
    {
     "data": {
      "text/plain": [
       "'listing_id_1'"
      ]
     },
     "execution_count": 53,
     "metadata": {},
     "output_type": "execute_result"
    }
   ],
   "source": [
    "db.reviews.create_index('listing_id')"
   ]
  },
  {
   "cell_type": "markdown",
   "metadata": {},
   "source": [
    "### Building **listings_with_reviews_m**"
   ]
  },
  {
   "cell_type": "code",
   "execution_count": 54,
   "metadata": {},
   "outputs": [
    {
     "name": "stdout",
     "output_type": "stream",
     "text": [
      "\n",
      "Time it took was: 6.3692 .\n",
      "['listings', 'calendar', 'reviews', 'listings_with_reviews_m', 'listings_with_calendar', 'listings_test']\n"
     ]
    }
   ],
   "source": [
    "# making sure that listings_with_calendar is empty\n",
    "db.listings_with_reviews_m.drop()\n",
    "\n",
    "pipeline = [\n",
    "    {\n",
    "        '$lookup':\n",
    "        {\n",
    "            'from': 'reviews',\n",
    "            'localField': 'id',\n",
    "            'foreignField': 'listing_id',\n",
    "            'as': 'reviews'\n",
    "        }\n",
    "    },\n",
    "    {\n",
    "        '$project':\n",
    "        {\n",
    "            'reviews._id': 0,\n",
    "        }\n",
    "    },\n",
    "    {\n",
    "        '$out': 'listings_with_reviews_m'\n",
    "    }\n",
    "]\n",
    "\n",
    "time1 = datetime.now()\n",
    "test1 = db.listings.aggregate(pipeline)\n",
    "time2 = datetime.now()\n",
    "diff = util.time_diff(time1, time2)\n",
    "\n",
    "print('\\nTime it took was:', format(diff, '.4f'), '.')\n",
    "\n",
    "print(db.list_collection_names())\n",
    "\n",
    "#print(\"test1:\")\n",
    "\n",
    "#print(len(list(test1)))\n",
    "\n",
    "#print(type(test1))"
   ]
  },
  {
   "cell_type": "code",
   "execution_count": 7,
   "metadata": {},
   "outputs": [
    {
     "name": "stdout",
     "output_type": "stream",
     "text": [
      "39202\n"
     ]
    }
   ],
   "source": [
    "count = db.listings_with_reviews_m.count_documents({})\n",
    "print(count)"
   ]
  },
  {
   "cell_type": "code",
   "execution_count": 8,
   "metadata": {},
   "outputs": [
    {
     "name": "stdout",
     "output_type": "stream",
     "text": [
      "39202\n",
      "43\n"
     ]
    }
   ],
   "source": [
    "print(db.listings_with_reviews_m.count_documents({}))\n",
    "\n",
    "cursor = db.listings_with_reviews_m.find({'id' : {'$regex' : '^1000.*$'}})\n",
    "    \n",
    "l = list(cursor)\n",
    "print(len(l))"
   ]
  },
  {
   "cell_type": "code",
   "execution_count": 9,
   "metadata": {},
   "outputs": [],
   "source": [
    "def isnan(val):\n",
    "    return val != val"
   ]
  },
  {
   "cell_type": "code",
   "execution_count": 10,
   "metadata": {},
   "outputs": [],
   "source": [
    "def convert_lwrm_to_json(doc):\n",
    "    doc_new = {}\n",
    "    \n",
    "    doc_new['_id'] = str(doc['_id'])\n",
    "    \n",
    "    for key in ['id', 'name', 'host_id', 'host_name', 'neighbourhood_group', 'neighbourhood', 'latitude', 'longitude', 'room_type', 'price', 'minimum_nights', 'number_of_reviews']:\n",
    "        if not isnan(doc[key]):\n",
    "            doc_new[key] = doc[key]\n",
    "        else:\n",
    "            doc_new[key] = None\n",
    "\n",
    "    if doc['last_review']:\n",
    "        doc_new['last_review'] = doc['last_review'].strftime('%Y-%m-%d')\n",
    "    else:\n",
    "        doc_new['last_review'] = None\n",
    "    \n",
    "    for key in ['reviews_per_month', 'calculated_host_listings_count', 'availability_365', 'number_of_reviews_ltm']:\n",
    "        if not isnan(doc[key]):\n",
    "            doc_new[key] = doc[key]\n",
    "        else:\n",
    "            doc_new[key] = None\n",
    "\n",
    "    if not isnan(doc['license']):\n",
    "        doc_new['license'] = doc['license']\n",
    "    else:\n",
    "        doc_new['license'] = \"\"\n",
    "\n",
    "    dlist = []\n",
    "    for d in doc['reviews']:\n",
    "        d_new = {}\n",
    "        for key in ['listing_id', 'id']:\n",
    "            if not isnan(d[key]):\n",
    "                d_new[key] = d[key]\n",
    "            else:\n",
    "                d_new[key] = None\n",
    "\n",
    "        if d['date']:\n",
    "            d_new['date'] = d['date'].strftime('%Y-%m-%d')\n",
    "        else:\n",
    "            d_new['date'] = None\n",
    "\n",
    "        for key in ['reviewer_id', 'reviewer_name', 'comments']:\n",
    "            if not isnan(d[key]):\n",
    "                d_new[key] = d[key]\n",
    "            else:\n",
    "                d_new[key] = None\n",
    "\n",
    "        dlist.append(d_new)\n",
    "\n",
    "    doc_new['reviews'] = dlist\n",
    "\n",
    "    return doc_new"
   ]
  },
  {
   "cell_type": "code",
   "execution_count": 11,
   "metadata": {},
   "outputs": [
    {
     "name": "stdout",
     "output_type": "stream",
     "text": [
      "43\n"
     ]
    }
   ],
   "source": [
    "cursor = db.listings_with_reviews_m.find({'id' : {'$regex' : '^1000.*$'}})\n",
    "\n",
    "output = []\n",
    "\n",
    "for doc in cursor:\n",
    "    output.append(convert_lwrm_to_json(doc))\n",
    "\n",
    "print(len(output))"
   ]
  },
  {
   "cell_type": "code",
   "execution_count": 12,
   "metadata": {},
   "outputs": [],
   "source": [
    "# Writing dict to a json file into a json file in a subdirectory\n",
    "# Also putting this function into my util.py\n",
    "def write_dict_to_dir_json(dict, dir, filename):\n",
    "    with open(dir + '/' + filename, 'w') as fp:\n",
    "        json.dump(dict, fp)\n",
    "\n",
    "dir = 'OUTPUTS'\n",
    "filename = 'listings_with_reviews_m_subset_1000.json'\n",
    "write_dict_to_dir_json(output, dir, filename)"
   ]
  }
 ],
 "metadata": {
  "kernelspec": {
   "display_name": "Python 3",
   "language": "python",
   "name": "python3"
  },
  "language_info": {
   "codemirror_mode": {
    "name": "ipython",
    "version": 3
   },
   "file_extension": ".py",
   "mimetype": "text/x-python",
   "name": "python",
   "nbconvert_exporter": "python",
   "pygments_lexer": "ipython3",
   "version": "3.11.6"
  }
 },
 "nbformat": 4,
 "nbformat_minor": 2
}
